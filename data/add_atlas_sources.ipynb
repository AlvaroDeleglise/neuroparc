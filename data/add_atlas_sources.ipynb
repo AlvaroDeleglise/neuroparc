{
 "cells": [
  {
   "cell_type": "code",
   "execution_count": 102,
   "metadata": {},
   "outputs": [],
   "source": [
    "import pandas\n",
    "import glob, os\n",
    "import json\n",
    "import copy"
   ]
  },
  {
   "cell_type": "code",
   "execution_count": 103,
   "metadata": {},
   "outputs": [],
   "source": [
    "parc_dat = pandas.read_csv('./neuroparc_metadata.csv')[[\"Atlas\",\"Source\"]]"
   ]
  },
  {
   "cell_type": "code",
   "execution_count": 117,
   "metadata": {},
   "outputs": [
    {
     "name": "stdout",
     "output_type": "stream",
     "text": [
      "reg_AICHAJoliot2015_space-MNI152NLin6_res-1x1x1\n",
      "reg_AICHAJoliot2015_space-MNI152NLin6_res-2x2x2\n",
      "reg_AICHAJoliot2015_space-MNI152NLin6_res-4x4x4\n"
     ]
    }
   ],
   "source": [
    "for file in glob.glob('../atlases/label/Human/Metadata-json/*.json'):\n",
    "    with open(file) as f:\n",
    "        parc_json = json.load(f)\n",
    "        base_fname = os.path.splitext(os.path.split(file)[1])[0]\n",
    "        out = {'roi': parc_json}\n",
    "        try:\n",
    "            new_dat = copy.deepcopy(parc_json)\n",
    "            del new_dat[\"MetaData\"]\n",
    "            mdat = parc_json[\"MetaData\"]\n",
    "            mdat[\"Source\"] = parc_dat[parc_dat[\"Atlas\"].str.match(base_fname[4:])][\"Source\"].values[0]\n",
    "            new_dict = {\"rois\": new_dat, \"Metadata\": mdat}\n",
    "            new_fname = file.replace(\"Metadata-json\", \"Metadata-json-updated\")\n",
    "            with open(new_fname, \"w\") as outf:\n",
    "                js_content = json.dumps(new_dict, indent=4, sort_keys=True)\n",
    "                outf.write(js_content)\n",
    "        except IndexError:\n",
    "            print(base_fname)"
   ]
  },
  {
   "cell_type": "markdown",
   "metadata": {},
   "source": [
    "Files that did not have a source are listed above."
   ]
  },
  {
   "cell_type": "code",
   "execution_count": null,
   "metadata": {},
   "outputs": [],
   "source": []
  }
 ],
 "metadata": {
  "kernelspec": {
   "display_name": "Python 3",
   "language": "python",
   "name": "python3"
  },
  "language_info": {
   "codemirror_mode": {
    "name": "ipython",
    "version": 3
   },
   "file_extension": ".py",
   "mimetype": "text/x-python",
   "name": "python",
   "nbconvert_exporter": "python",
   "pygments_lexer": "ipython3",
   "version": "3.7.8"
  }
 },
 "nbformat": 4,
 "nbformat_minor": 4
}
